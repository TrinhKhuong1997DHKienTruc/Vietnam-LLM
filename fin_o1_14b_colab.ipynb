{
 "cells": [
  {
   "cell_type": "markdown",
   "metadata": {},
   "source": [
    "# Fin-o1-14B Model Runner (Google Colab)\n",
    "\n",
    "This notebook runs the Fin-o1-14B model using Google Colab's free GPU resources.\n",
    "\n",
    "## Setup\n",
    "1. Run the first cell to install dependencies\n",
    "2. Run the second cell to load the model\n",
    "3. Use the interactive chat in the third cell"
   ]
  },
  {
   "cell_type": "code",
   "execution_count": null,
   "metadata": {},
   "outputs": [],
   "source": [
    "# Install required packages\n",
    "!pip install transformers torch accelerate bitsandbytes sentencepiece"
   ]
  },
  {
   "cell_type": "code",
   "execution_count": null,
   "metadata": {},
   "outputs": [],
   "source": [
    "# Load the Fin-o1-14B model\n",
    "from transformers import AutoTokenizer, AutoModelForCausalLM, BitsAndBytesConfig\n",
    "import torch\n",
    "\n",
    "print("Loading Fin-o1-14B model...")\n",
    "\n",
    "# Use 4-bit quantization to save memory\n",
    "bnb_config = BitsAndBytesConfig(\n",
    "    load_in_4bit=True,\n",
    "    bnb_4bit_use_double_quant=True,\n",
    "    bnb_4bit_quant_type="nf4",\n",
    "    bnb_4bit_compute_dtype=torch.float16\n",
    ")\n",
    "\n",
    "# Load tokenizer and model\n",
    "tokenizer = AutoTokenizer.from_pretrained("TheFinAI/Fin-o1-14B", trust_remote_code=True)\n",
    "model = AutoModelForCausalLM.from_pretrained(\n",
    "    "TheFinAI/Fin-o1-14B",\n",
    "    quantization_config=bnb_config,\n",
    "    device_map="auto",\n",
    "    trust_remote_code=True,\n",
    "    torch_dtype=torch.float16\n",
    ")\n",
    "\n",
    "print("✅ Model loaded successfully!")"
   ]
  },
  {
   "cell_type": "code",
   "execution_count": null,
   "metadata": {},
   "outputs": [],
   "source": [
    "# Interactive chat\n",
    "def generate_response(prompt, max_length=200):\n",
    "    inputs = tokenizer(prompt, return_tensors="pt")\n",
    "    \n",
    "    with torch.no_grad():\n",
    "        outputs = model.generate(\n",
    "            **inputs,\n",
    "            max_length=max_length,\n",
    "            temperature=0.7,\n",
    "            do_sample=True,\n",
    "            pad_token_id=tokenizer.eos_token_id\n",
    "        )\n",
    "    \n",
    "    return tokenizer.decode(outputs[0], skip_special_tokens=True)\n",
    "\n",
    "# Test the model\n",
    "test_prompt = "Explain artificial intelligence in simple terms"\n",
    "response = generate_response(test_prompt)\n",
    "print(f"Prompt: {test_prompt}")\n",
    "print(f"Response: {response}")\n",
    "\n",
    "# Interactive mode\n",
    "print("\n💬 Interactive Chat (type 'quit' to exit)")\n",
    "while True:\n",
    "    user_input = input("\nYou: ")\n",
    "    if user_input.lower() == 'quit':\n",
    "        break\n",
    "    \n",
    "    response = generate_response(user_input)\n",
    "    print(f"\nAssistant: {response}")"
   ]
  }
 ],
 "metadata": {
  "kernelspec": {
   "display_name": "Python 3",
   "language": "python",
   "name": "python3"
  },
  "language_info": {
   "codemirror_mode": {
    "name": "ipython",
    "version": 3
   },
   "file_extension": ".py",
   "mimetype": "text/x-python",
   "name": "python",
   "nbconvert_exporter": "python",
   "pygments_lexer": "ipython3",
   "version": "3.8.5"
  }
 },
 "nbformat": 4,
 "nbformat_minor": 4
}