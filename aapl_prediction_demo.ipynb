{
  "cells": [
    {
      "cell_type": "markdown",
      "metadata": {},
      "source": [
        "# AAPL Hourly Price Prediction using Chronos-Bolt Base Model\n",
        "\n",
        "This notebook demonstrates how to use the Chronos-Bolt base model to predict AAPL (Apple Inc.) hourly stock prices for the next 14 days.\n",
        "\n",
        "## Features\n",
        "- Downloads real-time AAPL data from Yahoo Finance\n",
        "- Uses Chronos-Bolt base model for time series forecasting\n",
        "- Provides confidence intervals and quantile predictions\n",
        "- Creates comprehensive visualizations\n",
        "- Saves results to CSV files\n",
        "\n",
        "## Model Information\n",
        "- **Model**: Chronos-Bolt Base (205M parameters)\n",
        "- **Architecture**: T5 encoder-decoder\n",
        "- **Training**: Nearly 100 billion time series observations\n",
        "- **Speed**: Up to 250x faster than original Chronos models\n",
        "- **Memory**: 20x more memory-efficient\n",
        "\n",
        "---\n"
      ]
    },
    {
      "cell_type": "markdown",
      "metadata": {},
      "source": [
        "## 1. Install and Import Dependencies\n"
      ]
    },
    {
      "cell_type": "code",
      "execution_count": null,
      "metadata": {},
      "outputs": [],
      "source": [
        "# Install required packages if not already installed\n",
        "import subprocess\n",
        "import sys\n",
        "\n",
        "def install_package(package):\n",
        "    try:\n",
        "        __import__(package)\n",
        "        print(f\"✅ {package} is already installed\")\n",
        "    except ImportError:\n",
        "        print(f\"📦 Installing {package}...\")\n",
        "        subprocess.check_call([sys.executable, \"-m\", \"pip\", \"install\", package])\n",
        "        print(f\"✅ {package} installed successfully\")\n",
        "\n",
        "# Install packages\n",
        "packages = [\n",
        "    \"torch\",\n",
        "    \"transformers\", \n",
        "    \"pandas\",\n",
        "    \"numpy\",\n",
        "    \"matplotlib\",\n",
        "    \"seaborn\",\n",
        "    \"yfinance\",\n",
        "    \"chronos-forecasting\",\n",
        "    \"scikit-learn\",\n",
        "    \"plotly\"\n",
        "]\n",
        "\n",
        "for package in packages:\n",
        "    install_package(package)\n"
      ]
    },
    {
      "cell_type": "code",
      "execution_count": null,
      "metadata": {},
      "outputs": [],
      "source": [
        "# Import libraries\n",
        "import pandas as pd\n",
        "import numpy as np\n",
        "import torch\n",
        "import yfinance as yf\n",
        "import matplotlib.pyplot as plt\n",
        "import seaborn as sns\n",
        "from datetime import datetime, timedelta\n",
        "import warnings\n",
        "warnings.filterwarnings('ignore')\n",
        "\n",
        "from chronos import BaseChronosPipeline\n",
        "\n",
        "print(\"✅ All libraries imported successfully\")\n",
        "print(f\"🖥️  PyTorch version: {torch.__version__}\")\n",
        "print(f\"🖥️  CUDA available: {torch.cuda.is_available()}\")\n",
        "if torch.cuda.is_available():\n",
        "    print(f\"🖥️  CUDA device: {torch.cuda.get_device_name(0)}\")\n"
      ]
    }
  ],
  "metadata": {
    "language_info": {
      "name": "python"
    }
  },
  "nbformat": 4,
  "nbformat_minor": 2
}
